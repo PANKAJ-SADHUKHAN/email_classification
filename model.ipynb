{
 "cells": [
  {
   "cell_type": "code",
   "execution_count": 1,
   "metadata": {},
   "outputs": [],
   "source": [
    "import pandas as pd\n",
    "import torch\n",
    "from transformers import BertTokenizer, BertForSequenceClassification,AutoTokenizer,TFAutoModel,AutoModelForMaskedLM\n",
    "from sklearn.model_selection import train_test_split\n",
    "from torch.utils.data import DataLoader, Dataset\n",
    "import numpy as np"
   ]
  },
  {
   "cell_type": "code",
   "execution_count": 2,
   "metadata": {},
   "outputs": [],
   "source": [
    "data = pd.read_csv(\"email_classification.csv\")"
   ]
  },
  {
   "cell_type": "code",
   "execution_count": 3,
   "metadata": {},
   "outputs": [
    {
     "data": {
      "text/html": [
       "<div>\n",
       "<style scoped>\n",
       "    .dataframe tbody tr th:only-of-type {\n",
       "        vertical-align: middle;\n",
       "    }\n",
       "\n",
       "    .dataframe tbody tr th {\n",
       "        vertical-align: top;\n",
       "    }\n",
       "\n",
       "    .dataframe thead th {\n",
       "        text-align: right;\n",
       "    }\n",
       "</style>\n",
       "<table border=\"1\" class=\"dataframe\">\n",
       "  <thead>\n",
       "    <tr style=\"text-align: right;\">\n",
       "      <th></th>\n",
       "      <th>email</th>\n",
       "      <th>label</th>\n",
       "    </tr>\n",
       "  </thead>\n",
       "  <tbody>\n",
       "    <tr>\n",
       "      <th>0</th>\n",
       "      <td>Upgrade to our premium plan for exclusive acce...</td>\n",
       "      <td>ham</td>\n",
       "    </tr>\n",
       "    <tr>\n",
       "      <th>1</th>\n",
       "      <td>Happy holidays from our team! Wishing you joy ...</td>\n",
       "      <td>ham</td>\n",
       "    </tr>\n",
       "    <tr>\n",
       "      <th>2</th>\n",
       "      <td>We're hiring! Check out our career opportuniti...</td>\n",
       "      <td>ham</td>\n",
       "    </tr>\n",
       "    <tr>\n",
       "      <th>3</th>\n",
       "      <td>Your Amazon account has been locked. Click her...</td>\n",
       "      <td>spam</td>\n",
       "    </tr>\n",
       "    <tr>\n",
       "      <th>4</th>\n",
       "      <td>Your opinion matters! Take our survey and help...</td>\n",
       "      <td>ham</td>\n",
       "    </tr>\n",
       "  </tbody>\n",
       "</table>\n",
       "</div>"
      ],
      "text/plain": [
       "                                               email label\n",
       "0  Upgrade to our premium plan for exclusive acce...   ham\n",
       "1  Happy holidays from our team! Wishing you joy ...   ham\n",
       "2  We're hiring! Check out our career opportuniti...   ham\n",
       "3  Your Amazon account has been locked. Click her...  spam\n",
       "4  Your opinion matters! Take our survey and help...   ham"
      ]
     },
     "execution_count": 3,
     "metadata": {},
     "output_type": "execute_result"
    }
   ],
   "source": [
    "data.head()"
   ]
  },
  {
   "cell_type": "code",
   "execution_count": 4,
   "metadata": {},
   "outputs": [],
   "source": [
    "# Example text\n",
    "example_text = data['email']  # Assuming 'email' is the column name containing the email text\n",
    "label=data['label']"
   ]
  },
  {
   "cell_type": "code",
   "execution_count": 5,
   "metadata": {},
   "outputs": [
    {
     "data": {
      "text/plain": [
       "['Upgrade to our premium plan for exclusive access to premium content and features.',\n",
       " 'Happy holidays from our team! Wishing you joy and prosperity this season.',\n",
       " \"We're hiring! Check out our career opportunities and join our dynamic team.\",\n",
       " 'Your Amazon account has been locked. Click here to verify your account information.',\n",
       " 'Your opinion matters! Take our survey and help us enhance your experience.',\n",
       " 'Your payment has been received. Thank you for your prompt transaction.',\n",
       " 'Your email account storage is full. Click here to upgrade your account.',\n",
       " \"Dear [Name], thank you for subscribing to our newsletter. Here's your welcome gift!\",\n",
       " 'Your account has been credited with loyalty points. Redeem them for exciting rewards!',\n",
       " \"You've been chosen for a free iPhone. Click here to claim your prize!\",\n",
       " \"Don't miss out on our special offer! Sign up now and get a discount on your first purchase.\",\n",
       " \"We're hiring interns for the summer. Apply now and gain valuable experience.\",\n",
       " \"You're pre-approved for a loan. Click here to apply now!\",\n",
       " \"We're thrilled to introduce our new collection. Shop now and enjoy exclusive discounts!\",\n",
       " \"We're excited to announce our upcoming webinar series. Register now to reserve your spot!\",\n",
       " \"We've added new features to our app based on your feedback. Update now!\",\n",
       " \"You're a winner! Click here to claim your exclusive prize.\",\n",
       " 'Your Facebook account has been hacked. Click here to secure your account.',\n",
       " \"Congratulations on reaching a new milestone! Here's to many more achievements.\",\n",
       " \"Congratulations! You've been selected for a job interview. Click here to schedule your interview.\",\n",
       " 'Your account has been suspended due to suspicious activity. Click here to unlock your account.',\n",
       " 'Get ready for our flash sale! Limited-time offers on your favorite products.',\n",
       " \"Thank you for your feedback. We're always striving to improve our services.\",\n",
       " 'Your PayPal account has been suspended. Click here to restore your account access.',\n",
       " \"You've won a luxury car! Click here to claim your prize.\",\n",
       " \"We've extended our sale for one more day! Don't miss your chance to save big.\",\n",
       " 'Your account has been flagged for suspicious activity. Click here to verify your identity.',\n",
       " \"We're sorry for the inconvenience. Our website will be back online shortly.\",\n",
       " \"Thank you for your recent purchase. Here's a special offer for you.\",\n",
       " 'Get instant cash now! Click here to access our quick loan service.',\n",
       " \"We're here to help you with any questions or concerns you may have.\",\n",
       " 'Your account has been banned. Click here to appeal the ban.',\n",
       " \"Congratulations! You've won a free vacation to a tropical paradise! Claim now!\",\n",
       " 'Your account has been pre-approved for a credit card. Click here to apply now!',\n",
       " \"We're sorry to see you go. Let us know if there's anything we can do to improve.\",\n",
       " \"You've been selected for a free trial of our premium membership. Click here to sign up!\",\n",
       " \"You've been selected for a free trial of our premium service. Click here to activate now!\",\n",
       " \"We're committed to sustainability. Learn more about our eco-friendly initiatives.\",\n",
       " \"We're hiring! Check out our careers page for current job openings.\",\n",
       " \"We're sorry for the inconvenience. Our website will be undergoing maintenance tonight.\",\n",
       " 'Your account has been credited with bonus points. Use them to unlock exclusive rewards!',\n",
       " \"We appreciate your business. Here's a token of our appreciation.\",\n",
       " 'We value your feedback. Share your thoughts with us.',\n",
       " \"Thank you for your loyalty. Here's a special discount code as a token of our appreciation.\",\n",
       " 'Thank you for your purchase. Your order will be delivered within the next few days.',\n",
       " 'Your account has been hacked. Click here to reset your password.',\n",
       " 'Get ready for our annual sale! Big savings await you.',\n",
       " \"You've been selected for a free iPhone X. Click here to claim your prize!\",\n",
       " \"Congratulations! You've won a free trip to Europe. Click here to claim your prize!\",\n",
       " \"This is to inform you about the schedule change for tomorrow's meeting. Please take note.\",\n",
       " \"You've been selected for a special prize. Click here to claim your reward!\",\n",
       " \"You've been selected for a free trial of our premium service. Click here to activate now!\",\n",
       " \"You've been selected for a free trial of our premium service. Click here to activate now!\",\n",
       " 'Upgrade to our premium membership for exclusive benefits and personalized recommendations.',\n",
       " \"You've won a luxury car! Click here to claim your prize.\",\n",
       " \"We've updated our app with new features. Update now for an enhanced user experience.\",\n",
       " 'Your opinion matters! Take our survey and get a chance to win exciting prizes.',\n",
       " 'Get instant cash now! Click here to access our quick loan service.',\n",
       " \"We're excited to announce our latest product release. Check it out!\",\n",
       " 'Your computer has been infected with a virus. Click here to download our antivirus software.',\n",
       " 'Your account has been pre-approved for a credit card. Click here to apply now!',\n",
       " \"Your subscription renewal is due. Don't forget to update your payment information.\",\n",
       " 'Get rich quick! Click here to join our exclusive investment program.',\n",
       " \"Don't miss out on our limited-time offer. Shop now and save.\",\n",
       " 'We value your privacy. Review our updated privacy policy for more information.',\n",
       " \"You've been selected for a free iPhone X. Click here to claim your prize!\",\n",
       " 'Your account has been compromised. Click here to secure your account.',\n",
       " \"Congratulations! You're our lucky winner of the day. Click here to claim your prize!\",\n",
       " \"We're hosting a webinar next week. Register now to secure your spot!\",\n",
       " 'Your order has been successfully processed. It will be shipped out today.',\n",
       " \"We're experiencing high call volumes. You can reach us faster by using our online chat.\",\n",
       " 'Your Netflix subscription has expired. Click here to renew now!',\n",
       " 'Good morning! Attached is the report you requested. Have a great day!',\n",
       " 'Thank you for attending our workshop. Here are the presentation slides for your reference.',\n",
       " \"We're excited to share our latest product updates with you. Check them out now!\",\n",
       " 'Act fast! Limited-time offer on designer handbags. Click here to shop now!',\n",
       " 'Claim your prize now! Click here to confirm your winnings.',\n",
       " 'Just a friendly reminder to renew your subscription before it expires.',\n",
       " 'Act now! Limited-time offer on luxury watches. Click here to buy now!',\n",
       " \"Congratulations! You're the lucky winner of our holiday giveaway. Click here to claim your prize!\",\n",
       " 'Thank you for your inquiry. We appreciate your interest in our products.',\n",
       " 'Get rich overnight! Click here to learn our secret money-making method.',\n",
       " 'Your satisfaction is our priority. Let us know how we can serve you better.',\n",
       " 'Thank you for your patience. Our technical team has resolved the issue. Happy browsing!',\n",
       " 'Dear [Name], your account subscription has expired. Renew now to continue enjoying our services.',\n",
       " 'URGENT: Your account has been compromised. Click here to reset your password immediately.',\n",
       " 'Your annual membership has been renewed. Enjoy another year of exclusive benefits.',\n",
       " \"We're excited to share our latest blog post with you. Check it out for valuable insights.\",\n",
       " 'Your account has been banned. Click here to appeal the ban.',\n",
       " \"You've won a luxury cruise! Click here to claim your tickets.\",\n",
       " \"We've detected unusual activity on your account. Secure it by changing your password.\",\n",
       " 'Your package is out for delivery. Track your shipment using the link provided.',\n",
       " \"You've won a shopping spree! Click here to claim your voucher.\",\n",
       " 'Your account has been upgraded to VIP status. Enjoy enhanced benefits and privileges.',\n",
       " \"Thank you for subscribing to our newsletter. Here's a special offer just for you!\",\n",
       " 'Our team is here to help you. Contact us anytime for assistance.',\n",
       " 'Stay connected with us! Follow our social media channels for the latest updates.',\n",
       " 'Your account has been hacked. Click here to reset your password.',\n",
       " 'Stay informed with our latest blog posts. Subscribe to our newsletter today.',\n",
       " 'Your account has been credited with bonus points. Click here to redeem your rewards.',\n",
       " \"Congratulations! You're the winner of our daily giveaway. Click here to claim your reward!\",\n",
       " 'Your PayPal account has been locked. Click here to restore your account access.',\n",
       " 'Your trial period has ended. Upgrade to a premium plan for unlimited access.',\n",
       " 'Stay connected with our latest updates. Follow us on social media.',\n",
       " \"Congratulations! You've been selected for a free trial of our premium software. Click here to download now!\",\n",
       " \"Congratulations! You've been selected for a free trial of our premium software. Click here to download now!\",\n",
       " \"Your order is confirmed. You'll receive a confirmation email shortly with the details.\",\n",
       " \"We're committed to providing excellent service. Your feedback helps us improve.\",\n",
       " 'Dear [Name], your account has been upgraded to premium status. Enjoy the perks!',\n",
       " 'Your feedback matters to us. Take our survey and help us serve you better.',\n",
       " \"Congratulations! You're the winner of our daily giveaway. Click here to claim your reward!\",\n",
       " 'Claim your prize now! Click here to confirm your winnings.',\n",
       " 'Stay in the loop with our newsletter. Subscribe now for the latest news and updates.',\n",
       " \"You've been selected for a free trial of our premium service. Click here to activate now!\",\n",
       " 'Get exclusive access to our VIP club. Click here to join now!',\n",
       " \"You're our lucky winner! Click here to claim your jackpot prize.\",\n",
       " 'Your bank account has been suspended. Click here to verify your account details.',\n",
       " \"We're here to help! Contact our customer support team for assistance.\",\n",
       " \"We're excited to announce our new product launch. Check it out on our website!\",\n",
       " 'Unlock exclusive discounts! Click here to join our loyalty program.',\n",
       " \"Dear valued customer, here's a special discount code for your next purchase: XYZ123.\",\n",
       " 'Get rich overnight! Click here to learn our secret money-making method.',\n",
       " \"We're excited to announce our partnership with [Company]. Stay tuned for exciting collaborations!\",\n",
       " \"We've reached a milestone! Thank you for being part of our journey.\",\n",
       " \"We're pleased to announce our partnership with [Company]. Together, we'll achieve great things!\",\n",
       " \"We're hosting a giveaway on our social media channels. Follow us for a chance to win!\",\n",
       " \"We've launched a new feature based on user feedback. Try it out and let us know what you think!\",\n",
       " \"We've upgraded our servers for faster performance. Enjoy smoother browsing!\",\n",
       " 'Congratulations on your recent achievement! Keep up the great work!',\n",
       " 'Claim your inheritance now! Click here to access your funds.',\n",
       " \"We're committed to your satisfaction. Let us know how we can improve.\",\n",
       " \"We're excited to share our latest updates with you. Stay tuned for more news!\",\n",
       " \"Congratulations! You're the lucky winner of our holiday giveaway. Click here to claim your prize!\",\n",
       " \"You're invited to a special event. Click here to RSVP now!\",\n",
       " \"Thank you for your loyalty. Here's a special discount for being a valued customer.\",\n",
       " \"We hope you're enjoying your subscription. Let us know if you have any questions.\",\n",
       " 'Dear [Name], your account balance is now updated. Please review the details.',\n",
       " \"We're celebrating our anniversary! Join us for special offers and giveaways all week long.\",\n",
       " 'Your email account storage is full. Click here to upgrade your account.',\n",
       " \"You're invited to a special event. Click here to RSVP now!\",\n",
       " \"We're here to assist you. Contact our support team if you need any help.\",\n",
       " \"Don't miss our end-of-season sale! Grab your favorite items at discounted prices.\",\n",
       " 'Your account has been credited with bonus points. Click here to redeem your rewards.',\n",
       " 'Your Facebook account has been hacked. Click here to secure your account.',\n",
       " 'Your account has been flagged for suspicious activity. Click here to verify your identity.',\n",
       " \"You've won a shopping spree! Click here to claim your voucher.\",\n",
       " \"We're extending our sale for one more day due to popular demand. Don't miss out!\",\n",
       " \"We're hosting a live Q&A session tomorrow. Submit your questions in advance!\",\n",
       " \"You've won a lottery! Click here to claim your million-dollar prize!\",\n",
       " \"Congratulations on your recent purchase! Here's a voucher for your next order.\",\n",
       " 'Get rich quick! Click here to join our exclusive investment program.',\n",
       " 'Your account has been credited with bonus points for your recent purchase. Enjoy!',\n",
       " 'Get ready for our annual sale! Huge discounts on a wide range of products.',\n",
       " \"We're sorry for the inconvenience. Our technical team is working on resolving the issue.\",\n",
       " \"Your account login was successful. If this wasn't you, please contact us immediately.\",\n",
       " \"We're thrilled to announce our partnership with [Organization]. Together, we'll make a difference!\",\n",
       " 'Your account has been suspended due to suspicious activity. Click here to unlock your account.',\n",
       " 'Your Netflix subscription has expired. Click here to renew now!',\n",
       " \"We're experiencing technical difficulties. Our team is working to resolve the issue ASAP.\",\n",
       " 'Act fast! Limited-time offer on designer handbags. Click here to shop now!',\n",
       " \"You've won a luxury cruise! Click here to claim your tickets.\",\n",
       " \"Hello! Just wanted to remind you about our upcoming event. Don't miss it!\",\n",
       " 'Your account password has been reset successfully. Please login with the new password.',\n",
       " \"You've won a shopping spree! Click here to claim your voucher.\",\n",
       " 'Unlock exclusive discounts! Click here to join our loyalty program.',\n",
       " 'Act fast! Limited-time offer on luxury watches. Click here to buy now!',\n",
       " 'Make money fast! Join our affiliate program and start earning cash today!',\n",
       " \"Congratulations! You've been selected for a special offer. Enjoy!\",\n",
       " 'Your credit card has been charged for unauthorized purchases. Click here to dispute the charges.',\n",
       " \"Congratulations on your recent purchase! Here's a special offer for your next order.\",\n",
       " 'Your account has been credited with bonus points for your continued support. Thank you!',\n",
       " \"You've been chosen for a free iPhone. Click here to claim your prize!\",\n",
       " \"Congratulations! You've won a free trip to Europe. Click here to claim your prize!\",\n",
       " 'Introducing our loyalty program. Earn points with every purchase and redeem rewards!',\n",
       " \"We're pleased to inform you that your refund has been processed successfully.\",\n",
       " 'Get rich quick! Invest in our revolutionary new scheme and retire early!',\n",
       " 'Your free trial period is ending soon. Upgrade now to continue enjoying our services.',\n",
       " 'Your order is on its way! Track your shipment for real-time updates.',\n",
       " \"Limited-time offer! Get 50% off on all purchases today only. Don't miss out!\"]"
      ]
     },
     "execution_count": 5,
     "metadata": {},
     "output_type": "execute_result"
    }
   ],
   "source": [
    "# Tokenizer does not take data frame so we convert it into list of string\n",
    "example_text.tolist()"
   ]
  },
  {
   "cell_type": "code",
   "execution_count": 6,
   "metadata": {},
   "outputs": [
    {
     "name": "stderr",
     "output_type": "stream",
     "text": [
      "Some weights of the model checkpoint at bert-base-uncased were not used when initializing BertForMaskedLM: ['bert.pooler.dense.bias', 'bert.pooler.dense.weight', 'cls.seq_relationship.bias', 'cls.seq_relationship.weight']\n",
      "- This IS expected if you are initializing BertForMaskedLM from the checkpoint of a model trained on another task or with another architecture (e.g. initializing a BertForSequenceClassification model from a BertForPreTraining model).\n",
      "- This IS NOT expected if you are initializing BertForMaskedLM from the checkpoint of a model that you expect to be exactly identical (initializing a BertForSequenceClassification model from a BertForSequenceClassification model).\n"
     ]
    },
    {
     "name": "stdout",
     "output_type": "stream",
     "text": [
      "Shape of the aggregated hidden states: torch.Size([179, 30522])\n"
     ]
    }
   ],
   "source": [
    "\n",
    "import torch\n",
    "from transformers import AutoTokenizer, AutoModelForMaskedLM\n",
    "\n",
    "# List of email sentences\n",
    "email_sentences = data['email'].tolist()\n",
    "\n",
    "\n",
    "# Load pre-trained tokenizer and model\n",
    "tokenizer = AutoTokenizer.from_pretrained(\"bert-base-uncased\")  # You can replace \"bert-base-uncased\" with any other LLM model\n",
    "model = AutoModelForMaskedLM.from_pretrained(\"bert-base-uncased\")\n",
    "\n",
    "# Tokenize and encode the email sentences\n",
    "tokenized_input = tokenizer(email_sentences, return_tensors=\"pt\", padding=True, truncation=True)\n",
    "\n",
    "# Forward pass through the model to get hidden states\n",
    "with torch.no_grad():\n",
    "    outputs = model(**tokenized_input)\n",
    "\n",
    "# Extract the hidden states from the output\n",
    "last_hidden_states = outputs[0]\n",
    "\n",
    "# Aggregate hidden states across the sequence dimension (dimension 1)\n",
    "# Here, we'll take the mean across the sequence dimension\n",
    "mean_last_hidden_states = torch.mean(last_hidden_states, dim=1)\n",
    "\n",
    "# Print the shape of the aggregated hidden states\n",
    "print(\"Shape of the aggregated hidden states:\", mean_last_hidden_states.shape)"
   ]
  },
  {
   "cell_type": "code",
   "execution_count": 7,
   "metadata": {},
   "outputs": [],
   "source": [
    "from sklearn.model_selection import train_test_split\n",
    "from sklearn.svm import SVC\n",
    "from sklearn.metrics import accuracy_score"
   ]
  },
  {
   "cell_type": "code",
   "execution_count": 9,
   "metadata": {},
   "outputs": [
    {
     "name": "stdout",
     "output_type": "stream",
     "text": [
      "Test Accuracy: 0.9722222222222222\n",
      "Test Accuracy: 0.9722222222222222\n"
     ]
    }
   ],
   "source": [
    "# Split data into train and test sets\n",
    "X_train, X_test, y_train, y_test = train_test_split(mean_last_hidden_states, label, test_size=0.2, random_state=42)\n",
    "\n",
    "# Initialize SVM classifier\n",
    "svm = SVC()\n",
    "\n",
    "# Train SVM on the train set\n",
    "svm.fit(X_train, y_train)\n",
    "# Predict labels for train and test sets\n",
    "train_predictions = svm.predict(X_train)\n",
    "test_predictions = svm.predict(X_test)\n",
    "\n",
    "# Calculate accuracy on train and test sets\n",
    "train_accuracy_svm = accuracy_score(y_train, train_predictions)\n",
    "test_accuracy_svm = accuracy_score(y_test, test_predictions)\n",
    "print(\"Test Accuracy:\", test_accuracy_svm)\n",
    "print(\"Test Accuracy:\", test_accuracy_svm)\n",
    "\n"
   ]
  },
  {
   "cell_type": "code",
   "execution_count": 10,
   "metadata": {},
   "outputs": [
    {
     "name": "stdout",
     "output_type": "stream",
     "text": [
      "Train Accuracy: 0.9370629370629371\n",
      "Test Accuracy: 0.9444444444444444\n"
     ]
    }
   ],
   "source": [
    "from sklearn.model_selection import train_test_split\n",
    "from sklearn.neighbors import KNeighborsClassifier\n",
    "from sklearn.metrics import accuracy_score\n",
    "\n",
    "# Assuming you have your email embeddings stored in mean_last_hidden_states\n",
    "# and your labels in a list called labels\n",
    "\n",
    "# Split data into train and test sets\n",
    "X_train, X_test, y_train, y_test = train_test_split(mean_last_hidden_states, label, test_size=0.2, random_state=42)\n",
    "\n",
    "# Initialize kNN classifier with k=5 (you can adjust k as needed)\n",
    "knn = KNeighborsClassifier(n_neighbors=5)\n",
    "\n",
    "# Train kNN on the train set\n",
    "knn.fit(X_train, y_train)\n",
    "\n",
    "# Predict labels for train and test sets\n",
    "train_predictions = knn.predict(X_train)\n",
    "test_predictions = knn.predict(X_test)\n",
    "\n",
    "# Calculate accuracy on train and test sets\n",
    "train_accuracy_knn= accuracy_score(y_train, train_predictions)\n",
    "test_accuracy_knn = accuracy_score(y_test, test_predictions)\n",
    "\n",
    "print(\"Train Accuracy:\", train_accuracy_knn)\n",
    "print(\"Test Accuracy:\", test_accuracy_knn)\n"
   ]
  },
  {
   "cell_type": "code",
   "execution_count": 12,
   "metadata": {},
   "outputs": [
    {
     "name": "stdout",
     "output_type": "stream",
     "text": [
      "Train Accuracy: 1.0\n",
      "Test Accuracy: 0.9722222222222222\n"
     ]
    }
   ],
   "source": [
    "from sklearn.model_selection import train_test_split\n",
    "from sklearn.tree import DecisionTreeClassifier\n",
    "from sklearn.metrics import accuracy_score\n",
    "\n",
    "# Assuming you have your email embeddings stored in mean_last_hidden_states\n",
    "# and your labels in a list called labels\n",
    "\n",
    "# Split data into train and test sets\n",
    "X_train, X_test, y_train, y_test = train_test_split(mean_last_hidden_states, label, test_size=0.2, random_state=42)\n",
    "\n",
    "# Initialize Decision Tree classifier\n",
    "decision_tree = DecisionTreeClassifier()\n",
    "\n",
    "# Train Decision Tree on the train set\n",
    "decision_tree.fit(X_train, y_train)\n",
    "\n",
    "# Predict labels for train and test sets\n",
    "train_predictions = decision_tree.predict(X_train)\n",
    "test_predictions = decision_tree.predict(X_test)\n",
    "\n",
    "# Calculate accuracy on train and test sets\n",
    "train_accuracy_decision_tree = accuracy_score(y_train, train_predictions)\n",
    "test_accuracy_decision_tree = accuracy_score(y_test, test_predictions)\n",
    "\n",
    "print(\"Train Accuracy:\", train_accuracy_decision_tree)\n",
    "print(\"Test Accuracy:\", test_accuracy_decision_tree)\n"
   ]
  },
  {
   "cell_type": "code",
   "execution_count": 14,
   "metadata": {},
   "outputs": [
    {
     "data": {
      "image/png": "[encoded data removed]",
      "text/plain": [
       "<Figure size 800x600 with 1 Axes>"
      ]
     },
     "metadata": {},
     "output_type": "display_data"
    }
   ],
   "source": [
    "import matplotlib.pyplot as plt\n",
    "\n",
    "# Sample data (replace with actual data)\n",
    "\n",
    "# Plotting\n",
    "plt.figure(figsize=(8, 6))\n",
    "plt.bar(['Train Accuracy', 'Test Accuracy'], [train_accuracy_knn, test_accuracy_knn], color=['blue', 'red'])\n",
    "plt.xlabel('Accuracy Type')\n",
    "plt.ylabel('Accuracy')\n",
    "plt.title('Train and Test Accuracies for kNN')\n",
    "plt.ylim(0, 1)  # Set y-axis limit to 0-1 for accuracy\n",
    "plt.show()\n"
   ]
  },
  {
   "cell_type": "code",
   "execution_count": null,
   "metadata": {},
   "outputs": [],
   "source": []
  }
 ],
 "metadata": {
  "kernelspec": {
   "display_name": "Python 3",
   "language": "python",
   "name": "python3"
  },
  "language_info": {
   "codemirror_mode": {
    "name": "ipython",
    "version": 3
   },
   "file_extension": ".py",
   "mimetype": "text/x-python",
   "name": "python",
   "nbconvert_exporter": "python",
   "pygments_lexer": "ipython3",
   "version": "3.11.5"
  }
 },
 "nbformat": 4,
 "nbformat_minor": 2
}
